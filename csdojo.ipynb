{
 "cells": [
  {
   "cell_type": "markdown",
   "metadata": {},
   "source": [
    "### count negative element in the column and row sorted matrix\n",
    "https://www.youtube.com/watch?v=5dJSZLmDsxk"
   ]
  },
  {
   "cell_type": "code",
   "execution_count": 26,
   "metadata": {},
   "outputs": [],
   "source": [
    "def negativeCount(matrix):\n",
    "    if(len(matrix)<=0 or len(matrix[0])<0):\n",
    "        raise Exception('error raise , shall be [[..],[..],...] like input')\n",
    "    index = len(matrix[0])\n",
    "    count = 0\n",
    "    for i in range(0,len(matrix)):\n",
    "        for j in range( index - 1, -1, -1):\n",
    "            if(matrix[i][j]<0):\n",
    "                count += (j+1)\n",
    "                print(matrix[i][j])\n",
    "                index = j+1\n",
    "            elif(j==0):\n",
    "                return count\n",
    "    return count\n",
    "\n",
    "def negativeCount(matrix,row,column):\n",
    "    if(row==0 or column==0):\n",
    "        return 0\n",
    "    i = 0\n",
    "    j = column \n",
    "    count = 0\n",
    "    while i<=row and j>=0:\n",
    "        if(matrix[i][j]<0):\n",
    "            count+=(j+1)\n",
    "            i+=1\n",
    "        else:\n",
    "            j-=1\n",
    "    return count\n",
    " "
   ]
  },
  {
   "cell_type": "code",
   "execution_count": 29,
   "metadata": {},
   "outputs": [
    {
     "data": {
      "text/plain": [
       "5"
      ]
     },
     "execution_count": 29,
     "metadata": {},
     "output_type": "execute_result"
    }
   ],
   "source": [
    "negativeCount([[-10,-5,6],[-5,-3,7],[-3,10,12],[1,2,3]],3,2)"
   ]
  },
  {
   "cell_type": "markdown",
   "metadata": {},
   "source": [
    "my solution\n",
    "    /*\n",
    "    while i <= row:\n",
    "        while j >= 0:\n",
    "            if(matrix[i][j]<0):\n",
    "                count+=(j+1)\n",
    "                break\n",
    "            else:\n",
    "                j-=1\n",
    "        if(j<0):\n",
    "            break\n",
    "    */\n",
    "    \n",
    "cs dojo solution \n",
    "    /*\n",
    "     while i<=row and j>=0:\n",
    "        if(matrix[i][j]<0):\n",
    "            count+=(j+1)\n",
    "            i+=1\n",
    "        else:\n",
    "            j-=1\n",
    "    */"
   ]
  },
  {
   "cell_type": "markdown",
   "metadata": {},
   "source": [
    "### Microsoft Coding Interview Question and Answer: Lowest Common Ancestor\n",
    "\n",
    "https://www.youtube.com/watch?v=GnliEfQo114"
   ]
  },
  {
   "cell_type": "code",
   "execution_count": 69,
   "metadata": {},
   "outputs": [
    {
     "name": "stdout",
     "output_type": "stream",
     "text": [
      "[36, 83, 27, 39, 4, 76, 53, 42, 98, 65]\n",
      "x is 53 y is 76\n",
      "[36, 27]\n"
     ]
    }
   ],
   "source": [
    "import random\n",
    "import numpy as np\n",
    "class stack():\n",
    "    def __init__(self,element = None):\n",
    "        self.size = 0\n",
    "        self.__elements = []\n",
    "        if(element!=None):\n",
    "            self.push(element)\n",
    "    \n",
    "    def push(self,element):\n",
    "        self.__elements.append(element)\n",
    "        self.size+=1\n",
    "        return self\n",
    "        \n",
    "    def pop(self):\n",
    "        if(self.size<1):\n",
    "            return None\n",
    "        else:\n",
    "            self.size -= 1\n",
    "            return self.__elements.pop(self.size)\n",
    "    \n",
    "    def viewTop(self):\n",
    "        if(self.size<1):\n",
    "            return None\n",
    "        else:\n",
    "            return self.__elements[self.size-1]\n",
    "\n",
    "        \n",
    "class queue():\n",
    "    def __init__(self,value = None):\n",
    "        self.size = 0\n",
    "        self.__elements = []\n",
    "        if(value!=None):\n",
    "            self.enqueue(value)\n",
    "    \n",
    "    def enqueue(self,value):\n",
    "        self.__elements.append(value)\n",
    "        self.size+=1\n",
    "    \n",
    "    def dequeue(self):\n",
    "        if(self.size<1):\n",
    "            return None\n",
    "        else:\n",
    "            self.size-=1\n",
    "            return self.__elements.pop(0)\n",
    "       \n",
    "    def viewTop(self):\n",
    "        if(self.size<1):\n",
    "            return None\n",
    "        else:\n",
    "            return self.__elements[0]\n",
    "\n",
    "    \n",
    "def rootToPath(x):\n",
    "    path = stack(x)\n",
    "    while(x.parent!=null):\n",
    "        path.push(x.parent)\n",
    "        x = x.parent\n",
    "    return path\n",
    "# solution here\n",
    "def rootToPath(root,value):\n",
    "    if(root==None):\n",
    "        return None\n",
    "    if(value==root.value):\n",
    "        return stack(value)\n",
    "    left = rootToPath(root.left,value)\n",
    "    if(left!=None):\n",
    "        return left.push(root.value)\n",
    "    right = rootToPath(root.right,value)\n",
    "    if(right!=None):\n",
    "        return right.push(root.value)\n",
    "    return None\n",
    "    \n",
    "\n",
    "def FLA(x,y,root):\n",
    "    pathX = rootToPath(root,x)\n",
    "    pathY = rootToPath(root,y)\n",
    "    viewList = []\n",
    "    while (pathX.size>0 or pathY.size>0):\n",
    "        if(pathX.viewTop()==pathY.viewTop()):\n",
    "            viewList.append(pathX.viewTop())\n",
    "            pathX.pop()\n",
    "            pathY.pop()\n",
    "        else:\n",
    "            return viewList\n",
    "    return viewList\n",
    "#\n",
    "class Node():\n",
    "    def __init__(self,value=None):\n",
    "        self.value = value\n",
    "        self.parent = None\n",
    "        self.left = None\n",
    "        self.right = None\n",
    "        \n",
    "class tree():\n",
    "    def __init__(self,value=None):\n",
    "        self.size = 0\n",
    "        self.__root = None\n",
    "        if(value!=None):\n",
    "            self.__root = Node(value)\n",
    "            self.size = 1\n",
    "            \n",
    "    def generator(self,size):\n",
    "        if(size<1):\n",
    "            return self.size\n",
    "        if(self.__root==None):\n",
    "            self.__root = Node(np.random.randint(0,100))\n",
    "            self.size+=1\n",
    "            size-=1\n",
    "        node = self.__root\n",
    "        while(size>0):\n",
    "            if np.random.randint(0,2)>0:\n",
    "                if(node.left==None):\n",
    "                    node.left = Node(np.random.randint(0,100))\n",
    "                    node.left.parent = node\n",
    "                    self.size+=1\n",
    "                    size-=1\n",
    "                    node = self.__root\n",
    "                else:\n",
    "                    node = node.left\n",
    "            else:\n",
    "                if(node.right==None):\n",
    "                    node.right = Node(np.random.randint(0,100))\n",
    "                    node.right.parent = node\n",
    "                    self.size+=1\n",
    "                    size-=1\n",
    "                    node = self.__root\n",
    "                else:\n",
    "                    node = node.right\n",
    "        return self.size\n",
    "\n",
    "    def show(self):\n",
    "        if(self.size==0):\n",
    "            return None\n",
    "        viewList = []\n",
    "        node = self.__root\n",
    "        q = queue(node)\n",
    "        while(q.size>0):\n",
    "            node = q.dequeue()\n",
    "            viewList.append(node.value)\n",
    "            if(node.left!=None):\n",
    "                q.enqueue(node.left)\n",
    "            if(node.right!=None):\n",
    "                q.enqueue(node.right)\n",
    "        return viewList\n",
    "    \n",
    "    def root(self):\n",
    "        return self.__root\n",
    "        \n",
    "t = tree()\n",
    "t.generator(10)\n",
    "print(t.show())\n",
    "l = t.show()\n",
    "x = l[random.randint(0,len(l)-1)]\n",
    "y = l[random.randint(0,len(l)-1)]\n",
    "print(\"x is %d y is %d\"%(x,y))\n",
    "print(FLA(x,y,t.root()))"
   ]
  },
  {
   "cell_type": "markdown",
   "metadata": {},
   "source": [
    "### Kadane's Algorithm to Maximum Sum Subarray Problem\n",
    "https://www.youtube.com/watch?v=86CQq3pKSUw"
   ]
  },
  {
   "cell_type": "code",
   "execution_count": 77,
   "metadata": {},
   "outputs": [
    {
     "data": {
      "text/plain": [
       "8"
      ]
     },
     "execution_count": 77,
     "metadata": {},
     "output_type": "execute_result"
    }
   ],
   "source": [
    "# my solution\n",
    "\n",
    "def maxSubArray(array):\n",
    "    size = len(array)\n",
    "    maxValue = [0]*size\n",
    "    maxValue[0] = array[0]\n",
    "    for i in range(1,len(array)):\n",
    "        if(maxValue[i-1]+array[i]>array[i]):\n",
    "            maxValue[i] = maxValue[i-1]+array[i]\n",
    "        else:\n",
    "            maxValue[i] = array[i]\n",
    "    return max(maxValue)\n",
    "\n",
    "maxSubArray([3,4,-5,3,3,-10])"
   ]
  },
  {
   "cell_type": "code",
   "execution_count": 76,
   "metadata": {},
   "outputs": [
    {
     "data": {
      "text/plain": [
       "8"
      ]
     },
     "execution_count": 76,
     "metadata": {},
     "output_type": "execute_result"
    }
   ],
   "source": [
    "# cs dojo soultion\n",
    "def maxsubArrayCsdojo(array):\n",
    "    maxValue = array[0]\n",
    "    localMax = array[0]\n",
    "    for i in range(1,len(array)):\n",
    "        localMax = max((localMax+array[i]),array[i])\n",
    "        maxValue = max(localMax,maxValue)\n",
    "    return maxValue\n",
    "maxsubArrayCsdojo([3,4,-5,3,3,-10])"
   ]
  }
 ],
 "metadata": {
  "kernelspec": {
   "display_name": "Python 3",
   "language": "python",
   "name": "python3"
  },
  "language_info": {
   "codemirror_mode": {
    "name": "ipython",
    "version": 3
   },
   "file_extension": ".py",
   "mimetype": "text/x-python",
   "name": "python",
   "nbconvert_exporter": "python",
   "pygments_lexer": "ipython3",
   "version": "3.6.3"
  }
 },
 "nbformat": 4,
 "nbformat_minor": 2
}
