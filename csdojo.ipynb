{
 "cells": [
  {
   "cell_type": "markdown",
   "metadata": {},
   "source": [
    "### count negative element in the column and row sorted matrix\n",
    "https://www.youtube.com/watch?v=5dJSZLmDsxk"
   ]
  },
  {
   "cell_type": "code",
   "execution_count": 97,
   "metadata": {},
   "outputs": [],
   "source": [
    "def negativeCount(matrix):\n",
    "    if(len(matrix)<=0 or len(matrix[0])<0):\n",
    "        raise Exception('error raise , shall be [[..],[..],...] like input')\n",
    "    index = len(matrix[0])\n",
    "    count = 0\n",
    "    for i in range(0,len(matrix)):\n",
    "        for j in range( index - 1, -1, -1):\n",
    "            if(matrix[i][j]<0):\n",
    "                count += (j+1)\n",
    "                print(matrix[i][j])\n",
    "                index = j+1\n",
    "            elif(j==0):\n",
    "                return count\n",
    "    return count\n",
    "\n",
    "def negativeCount(matrix,row,column):\n",
    "    if(row==0 or column==0):\n",
    "        return 0\n",
    "    i = 0\n",
    "    j = column \n",
    "    count = 0\n",
    "    while i<=row and j>=0:\n",
    "        if(matrix[i][j]<0):\n",
    "            count+=(j+1)\n",
    "            i+=1\n",
    "        else:\n",
    "            j-=1\n",
    "    return count\n",
    " "
   ]
  },
  {
   "cell_type": "code",
   "execution_count": 98,
   "metadata": {},
   "outputs": [
    {
     "data": {
      "text/plain": [
       "5"
      ]
     },
     "execution_count": 98,
     "metadata": {},
     "output_type": "execute_result"
    }
   ],
   "source": [
    "negativeCount([[-10,-5,6],[-5,-3,7],[-3,10,12],[1,2,3]],3,2)"
   ]
  },
  {
   "cell_type": "code",
   "execution_count": null,
   "metadata": {},
   "outputs": [],
   "source": [
    "my solution\n",
    "    /*\n",
    "    while i <= row:\n",
    "        while j >= 0:\n",
    "            if(matrix[i][j]<0):\n",
    "                count+=(j+1)\n",
    "                break\n",
    "            else:\n",
    "                j-=1\n",
    "        if(j<0):\n",
    "            break\n",
    "    */\n",
    "    \n",
    "cs dojo solution \n",
    "    /*\n",
    "     while i<=row and j>=0:\n",
    "        if(matrix[i][j]<0):\n",
    "            count+=(j+1)\n",
    "            i+=1\n",
    "        else:\n",
    "            j-=1\n",
    "    */"
   ]
  },
  {
   "cell_type": "markdown",
   "metadata": {},
   "source": [
    "### Lowest Common Ancestor\n",
    "\n",
    "https://www.youtube.com/watch?v=GnliEfQo114"
   ]
  },
  {
   "cell_type": "code",
   "execution_count": 99,
   "metadata": {},
   "outputs": [
    {
     "name": "stdout",
     "output_type": "stream",
     "text": [
      "[96, 35, 32, 26, 0, 55, 78, 54, 93, 55]\n",
      "x is 26 y is 26\n",
      "[96, 35, 26]\n"
     ]
    }
   ],
   "source": [
    "import random\n",
    "import numpy as np\n",
    "class stack():\n",
    "    def __init__(self,element = None):\n",
    "        self.size = 0\n",
    "        self.__elements = []\n",
    "        if(element!=None):\n",
    "            self.push(element)\n",
    "    \n",
    "    def push(self,element):\n",
    "        self.__elements.append(element)\n",
    "        self.size+=1\n",
    "        return self\n",
    "        \n",
    "    def pop(self):\n",
    "        if(self.size<1):\n",
    "            return None\n",
    "        else:\n",
    "            self.size -= 1\n",
    "            return self.__elements.pop(self.size)\n",
    "    \n",
    "    def viewTop(self):\n",
    "        if(self.size<1):\n",
    "            return None\n",
    "        else:\n",
    "            return self.__elements[self.size-1]\n",
    "\n",
    "        \n",
    "class queue():\n",
    "    def __init__(self,value = None):\n",
    "        self.size = 0\n",
    "        self.__elements = []\n",
    "        if(value!=None):\n",
    "            self.enqueue(value)\n",
    "    \n",
    "    def enqueue(self,value):\n",
    "        self.__elements.append(value)\n",
    "        self.size+=1\n",
    "    \n",
    "    def dequeue(self):\n",
    "        if(self.size<1):\n",
    "            return None\n",
    "        else:\n",
    "            self.size-=1\n",
    "            return self.__elements.pop(0)\n",
    "       \n",
    "    def viewTop(self):\n",
    "        if(self.size<1):\n",
    "            return None\n",
    "        else:\n",
    "            return self.__elements[0]\n",
    "\n",
    "    \n",
    "def rootToPath(x):\n",
    "    path = stack(x)\n",
    "    while(x.parent!=null):\n",
    "        path.push(x.parent)\n",
    "        x = x.parent\n",
    "    return path\n",
    "# solution here\n",
    "def rootToPath(root,value):\n",
    "    if(root==None):\n",
    "        return None\n",
    "    if(value==root.value):\n",
    "        return stack(value)\n",
    "    left = rootToPath(root.left,value)\n",
    "    if(left!=None):\n",
    "        return left.push(root.value)\n",
    "    right = rootToPath(root.right,value)\n",
    "    if(right!=None):\n",
    "        return right.push(root.value)\n",
    "    return None\n",
    "    \n",
    "\n",
    "def FLA(x,y,root):\n",
    "    pathX = rootToPath(root,x)\n",
    "    pathY = rootToPath(root,y)\n",
    "    viewList = []\n",
    "    while (pathX.size>0 or pathY.size>0):\n",
    "        if(pathX.viewTop()==pathY.viewTop()):\n",
    "            viewList.append(pathX.viewTop())\n",
    "            pathX.pop()\n",
    "            pathY.pop()\n",
    "        else:\n",
    "            return viewList\n",
    "    return viewList\n",
    "#\n",
    "class Node():\n",
    "    def __init__(self,value=None):\n",
    "        self.value = value\n",
    "        self.parent = None\n",
    "        self.left = None\n",
    "        self.right = None\n",
    "        \n",
    "class tree():\n",
    "    def __init__(self,value=None):\n",
    "        self.size = 0\n",
    "        self.__root = None\n",
    "        if(value!=None):\n",
    "            self.__root = Node(value)\n",
    "            self.size = 1\n",
    "            \n",
    "    def generator(self,size):\n",
    "        if(size<1):\n",
    "            return self.size\n",
    "        if(self.__root==None):\n",
    "            self.__root = Node(np.random.randint(0,100))\n",
    "            self.size+=1\n",
    "            size-=1\n",
    "        node = self.__root\n",
    "        while(size>0):\n",
    "            if np.random.randint(0,2)>0:\n",
    "                if(node.left==None):\n",
    "                    node.left = Node(np.random.randint(0,100))\n",
    "                    node.left.parent = node\n",
    "                    self.size+=1\n",
    "                    size-=1\n",
    "                    node = self.__root\n",
    "                else:\n",
    "                    node = node.left\n",
    "            else:\n",
    "                if(node.right==None):\n",
    "                    node.right = Node(np.random.randint(0,100))\n",
    "                    node.right.parent = node\n",
    "                    self.size+=1\n",
    "                    size-=1\n",
    "                    node = self.__root\n",
    "                else:\n",
    "                    node = node.right\n",
    "        return self.size\n",
    "\n",
    "    def show(self):\n",
    "        if(self.size==0):\n",
    "            return None\n",
    "        viewList = []\n",
    "        node = self.__root\n",
    "        q = queue(node)\n",
    "        while(q.size>0):\n",
    "            node = q.dequeue()\n",
    "            viewList.append(node.value)\n",
    "            if(node.left!=None):\n",
    "                q.enqueue(node.left)\n",
    "            if(node.right!=None):\n",
    "                q.enqueue(node.right)\n",
    "        return viewList\n",
    "    \n",
    "    def root(self):\n",
    "        return self.__root\n",
    "        \n",
    "t = tree()\n",
    "t.generator(10)\n",
    "print(t.show())\n",
    "l = t.show()\n",
    "x = l[random.randint(0,len(l)-1)]\n",
    "y = l[random.randint(0,len(l)-1)]\n",
    "print(\"x is %d y is %d\"%(x,y))\n",
    "print(FLA(x,y,t.root())) # 查找的 x 和 y 为节点的值，而是确定位置的一个节点"
   ]
  },
  {
   "cell_type": "markdown",
   "metadata": {},
   "source": [
    "### 对比两棵树是否完全一样\n",
    "对树进行广度优先遍历，每次出队检查出队元素值是否一样，不一样则树不相同，每次左右节点入队完成后，可能出现 A,B 两树节点位置不一样，但是节点总数一样，且刚好在访问的路径上的节点值一摸一样，这样会误判为 True，所以每次入队完成都要判断是否现在两个队列的长度是否一样，不一样则树的形状不同"
   ]
  },
  {
   "cell_type": "code",
   "execution_count": 100,
   "metadata": {},
   "outputs": [
    {
     "data": {
      "text/plain": [
       "False"
      ]
     },
     "execution_count": 100,
     "metadata": {},
     "output_type": "execute_result"
    }
   ],
   "source": [
    "def IsTreeSame(TreeA,TreeB):\n",
    "    qa = queue()\n",
    "    qb = queue()\n",
    "    qa.enqueue(TreeA.root())\n",
    "    qb.enqueue(TreeB.root())\n",
    "    while(qa.size>0 and qb.size>0):\n",
    "        aNode = qa.dequeue()\n",
    "        bNode = qb.dequeue()\n",
    "        if(aNode.value!=bNode.value):\n",
    "            return False    # 这里用于判断每一个节点的值是否相同\n",
    "        nodeList = [aNode.left,aNode.right]\n",
    "        [qa.enqueue(i) for i in nodeList if i != None]\n",
    "        nodeList = [bNode.left,bNode.right]\n",
    "        [qb.enqueue(i) for i in nodeList if i != None]\n",
    "        if(qa.size!=qb.size):\n",
    "            return False     # 这里用于判断树的结构是否相同\n",
    "    if(qa.size!=qb.size):\n",
    "        return False         # 这里也用于判断树的结构是否相同，但是在循环结束后\n",
    "    return True\n",
    "t = tree()\n",
    "t.generator(20)\n",
    "z = tree()\n",
    "z.generator(20)\n",
    "IsTreeSame(t,z)"
   ]
  },
  {
   "cell_type": "markdown",
   "metadata": {},
   "source": [
    "### Kadane's Algorithm to Maximum Sum Subarray Problem\n",
    "https://www.youtube.com/watch?v=86CQq3pKSUw"
   ]
  },
  {
   "cell_type": "code",
   "execution_count": 101,
   "metadata": {},
   "outputs": [
    {
     "data": {
      "text/plain": [
       "8"
      ]
     },
     "execution_count": 101,
     "metadata": {},
     "output_type": "execute_result"
    }
   ],
   "source": [
    "# my solution\n",
    "\n",
    "def maxSubArray(array):\n",
    "    size = len(array)\n",
    "    maxValue = [0]*size\n",
    "    maxValue[0] = array[0]\n",
    "    for i in range(1,len(array)):\n",
    "        if(maxValue[i-1]+array[i]>array[i]):\n",
    "            maxValue[i] = maxValue[i-1]+array[i]\n",
    "        else:\n",
    "            maxValue[i] = array[i]\n",
    "    return max(maxValue)\n",
    "\n",
    "maxSubArray([3,4,-5,3,3,-10])"
   ]
  },
  {
   "cell_type": "code",
   "execution_count": 102,
   "metadata": {},
   "outputs": [
    {
     "data": {
      "text/plain": [
       "8"
      ]
     },
     "execution_count": 102,
     "metadata": {},
     "output_type": "execute_result"
    }
   ],
   "source": [
    "# cs dojo soultion\n",
    "def maxsubArrayCsdojo(array):\n",
    "    maxValue = array[0]\n",
    "    localMax = array[0]\n",
    "    for i in range(1,len(array)):\n",
    "        localMax = max((localMax+array[i]),array[i])\n",
    "        maxValue = max(localMax,maxValue)\n",
    "    return maxValue\n",
    "maxsubArrayCsdojo([3,4,-5,3,3,-10])"
   ]
  },
  {
   "cell_type": "markdown",
   "metadata": {},
   "source": [
    "### Longest Consecutive Characters\n",
    "\n",
    "https://www.youtube.com/watch?v=qRNB8CV3_LU\n",
    "\n",
    "#### 我将所有字符与他们的最大计数存储为一个字典，并在函数返回的时候对字典进行排序，max函数排序会根据元组的第一个值进行排序\n",
    "\n",
    "##### 字典对值排序的方法 : max( (j,i) for i,j in dic.items() )   max( zip( dic.values() , dic.keys() ) )    max( dic.keys(), key= ( lambda k: dic[k]) ) ## 这个是返回最大的 key"
   ]
  },
  {
   "cell_type": "code",
   "execution_count": 103,
   "metadata": {},
   "outputs": [
    {
     "data": {
      "text/plain": [
       "(17, 'a')"
      ]
     },
     "execution_count": 103,
     "metadata": {},
     "output_type": "execute_result"
    }
   ],
   "source": [
    "def longConsecutiveCharacter(string):\n",
    "    dic = {}\n",
    "    previous = None\n",
    "    count = 0\n",
    "    for i in string:\n",
    "        if(i==previous):\n",
    "            count+=1\n",
    "        else:\n",
    "            count=1\n",
    "        previous = i\n",
    "        if(i not in dic):\n",
    "            dic[i]=1\n",
    "        elif(count>dic[i]):\n",
    "            dic[i]+=1\n",
    "    return max(zip(dic.values(),dic.keys()))\n",
    "\n",
    "longConsecutiveCharacter('aaaaaaaaaaaaaaaaabcdddssbbbbsdddbaaazzzzz11122999999933445')"
   ]
  },
  {
   "cell_type": "markdown",
   "metadata": {},
   "source": [
    "####  相比起我使用字典存储所有键值，CSdojo的解答中只追踪当前的 最大计数值 和 最大计数的字符，以及目前访问的字符与它的对应计数，这样显得简洁了许多，也省去了字典排序的麻烦"
   ]
  },
  {
   "cell_type": "code",
   "execution_count": 104,
   "metadata": {},
   "outputs": [
    {
     "data": {
      "text/plain": [
       "('e', 16)"
      ]
     },
     "execution_count": 104,
     "metadata": {},
     "output_type": "execute_result"
    }
   ],
   "source": [
    "# cs dojo's solution\n",
    "def longConsecutiveCharacterCSdojo(string):\n",
    "    maxStr = None\n",
    "    maxCount = 0\n",
    "    count = 0\n",
    "    previous = None\n",
    "    for i in string:\n",
    "        if(i==previous):\n",
    "            count+=1\n",
    "        else:\n",
    "            count = 1\n",
    "        previous = i\n",
    "        if(count>maxCount):\n",
    "            maxCount = count\n",
    "            maxStr = i\n",
    "    return (maxStr,maxCount)\n",
    "\n",
    "longConsecutiveCharacterCSdojo('fddddddfefhweiufhuyfegurifhweufwuhfuweuf73466438346dddddeeeeeeeeeeeeeeeererer76546398fhcefch')\n"
   ]
  },
  {
   "cell_type": "markdown",
   "metadata": {},
   "source": [
    "### 字典排序方法 and lambda"
   ]
  },
  {
   "cell_type": "code",
   "execution_count": 105,
   "metadata": {},
   "outputs": [
    {
     "data": {
      "text/plain": [
       "(3, 'a')"
      ]
     },
     "execution_count": 105,
     "metadata": {},
     "output_type": "execute_result"
    }
   ],
   "source": [
    "dic ={}\n",
    "dic['b'] = 2\n",
    "dic['a'] = 3\n",
    "max(dic.values())\n",
    "max(dic.keys())\n",
    "\n",
    "## method 1\n",
    "max(dic.keys(),key = (lambda k:dic[k]))\n",
    "\n",
    "## method 2\n",
    "max(zip(dic.values(),dic.keys()))"
   ]
  },
  {
   "cell_type": "markdown",
   "metadata": {},
   "source": [
    "### Fib sequence 之 动态规划"
   ]
  },
  {
   "cell_type": "markdown",
   "metadata": {},
   "source": [
    "### 递归解法"
   ]
  },
  {
   "cell_type": "code",
   "execution_count": 107,
   "metadata": {},
   "outputs": [
    {
     "data": {
      "text/plain": [
       "9227465"
      ]
     },
     "execution_count": 107,
     "metadata": {},
     "output_type": "execute_result"
    }
   ],
   "source": [
    "def fib(n):\n",
    "    if(n<=2):\n",
    "        return 1\n",
    "    return fib(n-1) + fib(n-2)\n",
    "fib(35)"
   ]
  },
  {
   "cell_type": "markdown",
   "metadata": {},
   "source": [
    "### memorized  解法"
   ]
  },
  {
   "cell_type": "code",
   "execution_count": 149,
   "metadata": {},
   "outputs": [
    {
     "data": {
      "text/plain": [
       "354224848179261915075"
      ]
     },
     "execution_count": 149,
     "metadata": {},
     "output_type": "execute_result"
    }
   ],
   "source": [
    "def fib_memory(n, memory):\n",
    "    if(memory[n] != None):\n",
    "        return memory[n]\n",
    "    if(n<=2):\n",
    "        result = 1\n",
    "    else:\n",
    "        result = fib_memory(n-1,memory)+fib_memory(n-2,memory)\n",
    "    memory[n] = result\n",
    "    return result\n",
    "\n",
    "def fib_m(n):\n",
    "    memory = [None]*(n+1)\n",
    "    result = fib_memory(n,memory)\n",
    "    return result\n",
    "\n",
    "fib_m(100)"
   ]
  },
  {
   "cell_type": "markdown",
   "metadata": {},
   "source": [
    "### bottom up 解法"
   ]
  },
  {
   "cell_type": "code",
   "execution_count": 110,
   "metadata": {},
   "outputs": [
    {
     "data": {
      "text/plain": [
       "43466557686937456435688527675040625802564660517371780402481729089536555417949051890403879840079255169295922593080322634775209689623239873322471161642996440906533187938298969649928516003704476137795166849228875"
      ]
     },
     "execution_count": 110,
     "metadata": {},
     "output_type": "execute_result"
    }
   ],
   "source": [
    "def fib_bottom(n):\n",
    "    memory = [None]*(n+1)\n",
    "    memory[1] = 1\n",
    "    memory[2] = 1\n",
    "    for i in range(3,n+1):\n",
    "        memory[i] = memory[i-1]+memory[i-2]\n",
    "    return memory[n]\n",
    "fib_bottom(1000)"
   ]
  },
  {
   "cell_type": "markdown",
   "metadata": {},
   "source": [
    "### 寻找所有 subset"
   ]
  },
  {
   "cell_type": "code",
   "execution_count": 13,
   "metadata": {},
   "outputs": [
    {
     "name": "stdout",
     "output_type": "stream",
     "text": [
      "[]\n",
      "0\n"
     ]
    },
    {
     "data": {
      "text/plain": [
       "[[4, 3, 2, 1],\n",
       " [4, 3, 2],\n",
       " [4, 3, 1],\n",
       " [4, 3],\n",
       " [4, 2, 1],\n",
       " [4, 2],\n",
       " [4, 1],\n",
       " [4],\n",
       " [3, 2, 1],\n",
       " [3, 2],\n",
       " [3, 1],\n",
       " [3],\n",
       " [2, 1],\n",
       " [2],\n",
       " [1],\n",
       " []]"
      ]
     },
     "execution_count": 13,
     "metadata": {},
     "output_type": "execute_result"
    }
   ],
   "source": [
    "def subset(array):\n",
    "    return subsetFind(array,len(array)-1)\n",
    "\n",
    "mem = []\n",
    "def subsetFind(array,i):\n",
    "    if(i<0):\n",
    "        return []\n",
    "    result = subsetFind(array,i-1)\n",
    "    if(result==[]):\n",
    "        return [[array[i]],[]]\n",
    "    else:\n",
    "        i = [[array[i]]+ sub for sub in result]\n",
    "        j = [ sub for sub in result ]\n",
    "        return i+j\n",
    "subset([1,2,3,4])\n"
   ]
  },
  {
   "cell_type": "markdown",
   "metadata": {},
   "source": [
    "### 寻找正数子集之和为某一个数的所有子集的数量之和"
   ]
  },
  {
   "cell_type": "markdown",
   "metadata": {},
   "source": [
    "### 递归解法"
   ]
  },
  {
   "cell_type": "code",
   "execution_count": 112,
   "metadata": {},
   "outputs": [
    {
     "data": {
      "text/plain": [
       "2"
      ]
     },
     "execution_count": 112,
     "metadata": {},
     "output_type": "execute_result"
    }
   ],
   "source": [
    "def countSets(arr,total):\n",
    "    return rec(arr,total,len(arr)-1)\n",
    "\n",
    "def rec(array,total,index):\n",
    "    if(total==0):\n",
    "        return 1\n",
    "    elif(index<0):\n",
    "        return 0\n",
    "    elif(total<0):\n",
    "        return 0\n",
    "    elif(total<array[index]):\n",
    "        return rec(array,total,index-1)\n",
    "    else:\n",
    "        return rec(array,total-array[index],index-1) + rec(array,total,index-1)\n",
    "\n",
    "countSets([2,10,4,6],16)"
   ]
  },
  {
   "cell_type": "markdown",
   "metadata": {},
   "source": [
    "### 动态规划版本"
   ]
  },
  {
   "cell_type": "code",
   "execution_count": 113,
   "metadata": {},
   "outputs": [
    {
     "data": {
      "text/plain": [
       "2"
      ]
     },
     "execution_count": 113,
     "metadata": {},
     "output_type": "execute_result"
    }
   ],
   "source": [
    "def countSetsDp(arr,total):\n",
    "    memory = {}\n",
    "    return recDp(arr,total,len(arr)-1,memory)\n",
    "\n",
    "def recDp(array,total,index,mem):\n",
    "    key = str(total) + ':' + str(index)\n",
    "    if(key in mem):\n",
    "        return mem[key]\n",
    "    if(total==0):\n",
    "        result = 1\n",
    "    elif(index<0):\n",
    "        result = 0\n",
    "    elif(total<0):\n",
    "        result =  0\n",
    "    elif(total<array[index]):\n",
    "        result = recDp(array,total,index-1,mem)\n",
    "    else:\n",
    "        result = recDp(array,total-array[index],index-1,mem) + recDp(array,total,index-1,mem)\n",
    "    mem[key] = result\n",
    "    return result\n",
    "countSetsDp([2,10,4,6],16)"
   ]
  },
  {
   "cell_type": "markdown",
   "metadata": {},
   "source": [
    "### 从两个有序数组找出所有数值相同的数，要求时间复杂度为 max（arrayA.length,arrayB.length）"
   ]
  },
  {
   "cell_type": "code",
   "execution_count": 41,
   "metadata": {},
   "outputs": [
    {
     "name": "stdout",
     "output_type": "stream",
     "text": [
      "[1, 2, 3, 4, 5, 6, 6, 7, 8]\n",
      "[1, 2, 4, 6, 6, 8, 9, 34, 45]\n",
      "[1, 2, 4, 6, 6, 8]\n",
      "\n",
      "[1, 2, 3, 4, 5, 6, 6, 7, 8]\n",
      "[1, 2, 4, 6, 6, 8, 9, 34, 45]\n",
      "[1, 2, 4, 6, 6, 8]\n"
     ]
    }
   ],
   "source": [
    "def findSame(arrA,arrB):\n",
    "    arrA.sort()\n",
    "    arrB.sort()\n",
    "    print(arrA)\n",
    "    print(arrB)\n",
    "    La = len(arrA)\n",
    "    Lb = len(arrB)\n",
    "    j = 0\n",
    "    i = 0\n",
    "    result = []\n",
    "    for i in range(La):\n",
    "        while(j<Lb and arrB[j]<arrA[i]):\n",
    "            j+=1\n",
    "        if(arrB[j]==arrA[i]):\n",
    "            result.append(arrB[j])\n",
    "            j+=1\n",
    "    return result\n",
    "print(findSame([1,2,3,4,5,6,6,7,8],[34,45,2,4,6,6,8,1,9]),end='\\n\\n')\n",
    "\n",
    "def findSameCsDojo(arrA,arrB):\n",
    "    arrA.sort()\n",
    "    arrB.sort()\n",
    "    print(arrA)\n",
    "    print(arrB)\n",
    "    i = 0\n",
    "    j = 0\n",
    "    result = []\n",
    "    while(i<len(arrA) and j<len(arrB)):\n",
    "        if(arrA[i]==arrB[j]):\n",
    "            result.append(arrA[i])\n",
    "            i+=1\n",
    "            j+=1\n",
    "        elif(arrA[i]>arrB[j]):\n",
    "            j+=1\n",
    "        else:\n",
    "            i+=1\n",
    "    return result\n",
    "\n",
    "print(findSameCsDojo([1,2,3,4,5,6,6,7,8],[34,45,2,4,6,6,8,1,9]))"
   ]
  },
  {
   "cell_type": "markdown",
   "metadata": {},
   "source": [
    "### 确认一个数组是否是另外一个数组的 rotation （回转）    [1,2,3,4,5,6]  -(rotation)> [4,5,6,1,2,3] "
   ]
  },
  {
   "cell_type": "code",
   "execution_count": 49,
   "metadata": {},
   "outputs": [
    {
     "data": {
      "text/plain": [
       "True"
      ]
     },
     "execution_count": 49,
     "metadata": {},
     "output_type": "execute_result"
    }
   ],
   "source": [
    "def isRoation(arrA,arrB):\n",
    "    i = 0\n",
    "    j = 0\n",
    "    while(arrA[i]!=arrB[j]):\n",
    "        i+=1\n",
    "        if(i==len(arrA)):\n",
    "            return False\n",
    "    start = i\n",
    "    while(i<len(arrA)):\n",
    "        if(arrA[i]!=arrB[j]):\n",
    "            return False\n",
    "        i,j = i+1,j+1\n",
    "    i = 0\n",
    "    while(j<len(arrB)):\n",
    "        if(arrA[i]!=arrB[j]):\n",
    "            return False\n",
    "        i,j = i+1,j+1\n",
    "    return True\n",
    "\n",
    "def isRoationCsDojo(arrA,arrB):\n",
    "    i = 0\n",
    "    j = 0\n",
    "    while(arrA[i]!=arrB[j]):\n",
    "        i+=1\n",
    "        if(i>=len(arrA)):\n",
    "            return False\n",
    "    index = i\n",
    "    for i in range(len(arrA)):\n",
    "        if(arrA[i]!=arrB[(index+i)%len(arrA)]):   ### 这里使用了百分号取余数，巧妙的达到了访问的方法\n",
    "            return False\n",
    "    return True\n",
    "\n",
    "isRoationCsDojo([1,2,3,4,5,6],[4,5,6,1,2,3])"
   ]
  },
  {
   "cell_type": "markdown",
   "metadata": {},
   "source": [
    "### 查找列表中的第一个非重复元素"
   ]
  },
  {
   "cell_type": "code",
   "execution_count": 51,
   "metadata": {},
   "outputs": [
    {
     "data": {
      "text/plain": [
       "2"
      ]
     },
     "execution_count": 51,
     "metadata": {},
     "output_type": "execute_result"
    }
   ],
   "source": [
    "# my solution\n",
    "def non_repeating(given_string):\n",
    "    sources = []\n",
    "    is_repeat = []\n",
    "    for i in given_string:\n",
    "        if(i not in sources):\n",
    "            lists.append(i)\n",
    "            is_repeat.append(0)\n",
    "        else:\n",
    "            is_repeat[sources.index(i)]=1\n",
    "    if(0 not in is_repeat):\n",
    "        return None\n",
    "    else:\n",
    "        return sources[is_repeat.index(0)]\n",
    "\n",
    "## CSDOJO solution\n",
    "def isRepeat(array):\n",
    "    storage = {}\n",
    "    for i in array:\n",
    "        if i in storage:\n",
    "            storage[i]+=1\n",
    "        else:\n",
    "            storage[i]=1\n",
    "    for i in array:\n",
    "        if(storage[i]==1):\n",
    "            return i\n",
    "    return None\n",
    "\n",
    "isRepeat([1,2,3,4,5,6,1,3,5,6,7])"
   ]
  },
  {
   "cell_type": "markdown",
   "metadata": {},
   "source": [
    "### 从数组中找到两个数相乘为某个数字"
   ]
  },
  {
   "cell_type": "markdown",
   "metadata": {},
   "source": [
    "#### 解法1 寻找每一个组合，遍历的时候计算每一个数字和它后面的所有数字的乘积结果 ，检查是否和结果匹配"
   ]
  },
  {
   "cell_type": "code",
   "execution_count": 115,
   "metadata": {},
   "outputs": [
    {
     "data": {
      "text/plain": [
       "{2: 10, 4: 5}"
      ]
     },
     "execution_count": 115,
     "metadata": {},
     "output_type": "execute_result"
    }
   ],
   "source": [
    "def find(array,value):\n",
    "    storage = {}\n",
    "    for i in range(0,len(array)):\n",
    "        for j in range(i+1,len(array)):\n",
    "            if(array[i]*array[j]==value):\n",
    "                storage[array[i]] = array[j]\n",
    "    return storage\n",
    "\n",
    "\n",
    "findDic([1,2,3,4,5,6,7,8,9,10,13,33],20)"
   ]
  },
  {
   "cell_type": "markdown",
   "metadata": {},
   "source": [
    "#### 解法 2  用一个字典存储，用所需乘积得到的值除以现在访问的值，若可以除断，将这个访问的值作为 value，而需要乘的数作为 key\n",
    "#### 在面临数组很长的情况下，这个解法非常有效"
   ]
  },
  {
   "cell_type": "code",
   "execution_count": 18,
   "metadata": {},
   "outputs": [
    {
     "data": {
      "text/plain": [
       "{2: 10, 4: 5}"
      ]
     },
     "execution_count": 18,
     "metadata": {},
     "output_type": "execute_result"
    }
   ],
   "source": [
    "def findDic(array,value):\n",
    "    result = {}\n",
    "    check = {}\n",
    "    for i in array:\n",
    "        if(i in check):\n",
    "            result[check[i]] = i\n",
    "        if(value%i==0):\n",
    "            check[value/i] = i \n",
    "    return result\n",
    "\n",
    "findDic([1,2,3,4,5,6,7,8,9,10,13,33],20)"
   ]
  },
  {
   "cell_type": "markdown",
   "metadata": {},
   "source": [
    "### 从数组中找到三个数字相乘为某个数字 （前一个问题的升级版）"
   ]
  },
  {
   "cell_type": "markdown",
   "metadata": {},
   "source": [
    "#### 遍历每一个数字，看是否 value 可以除断它，如果可以，则去剩下的数组中寻找一个数组对乘积为 value / 它的值 , 也就是把问题从三个数字降维成两个数\n",
    "#### 如果是要求四个数字乘积为 value， 则同理使用降维处理至 3 ，2 维处理"
   ]
  },
  {
   "cell_type": "code",
   "execution_count": 14,
   "metadata": {},
   "outputs": [
    {
     "data": {
      "text/plain": [
       "[[1, 4, 5], [1, 2, 10], [1, 20, 1], [1, 20, 1], [1, 20, 1]]"
      ]
     },
     "execution_count": 14,
     "metadata": {},
     "output_type": "execute_result"
    }
   ],
   "source": [
    "def findThree(array,value):\n",
    "    result = []\n",
    "    for i in range(len(array)):\n",
    "        if(value%array[i]==0):\n",
    "            tuples = findTwo(array,value,i+1)\n",
    "            for localResult in tuples:\n",
    "                result.append([array[i]]+localResult)\n",
    "        return result\n",
    "    \n",
    "def findTwo(array,value,index):\n",
    "    check = {}\n",
    "    result = []\n",
    "    for i in range(index,len(array)):\n",
    "        if(array[i] in check):\n",
    "            result.append([check[array[i]],array[i]])\n",
    "        if(value%array[i]==0):\n",
    "            check[value/array[i]] = array[i]\n",
    "    return result\n",
    "\n",
    "findThree([1,2,3,4,5,6,7,8,8,9,10,20,15,1,1,1],20)"
   ]
  },
  {
   "cell_type": "markdown",
   "metadata": {},
   "source": [
    "### 找到长度为 N 的数组中最大的数，在 1/2 N 次比较内完成"
   ]
  },
  {
   "cell_type": "code",
   "execution_count": 1,
   "metadata": {},
   "outputs": [
    {
     "data": {
      "text/plain": [
       "99"
      ]
     },
     "execution_count": 1,
     "metadata": {},
     "output_type": "execute_result"
    }
   ],
   "source": [
    "def findMax(array,length):\n",
    "    if(length < 1):\n",
    "        return None\n",
    "    if(length==1):\n",
    "        return array[0]\n",
    "    i = 0\n",
    "    Max = max(array[i],array[i+1])\n",
    "    i = 2\n",
    "    while i < length-1:\n",
    "        localMax = max(array[i],array[i+1])\n",
    "        Max = max(Max,localMax)\n",
    "        if(i==length-3):\n",
    "            i+=1\n",
    "        else:\n",
    "            i+=2\n",
    "    return Max\n",
    "findMax([12,23,4,5,65,5,99,10,11],9)"
   ]
  },
  {
   "cell_type": "markdown",
   "metadata": {},
   "source": [
    "### 给两个矩阵 rec1 和 rec2 的左下角和右上角的坐标点，求两个矩阵的重叠面积"
   ]
  },
  {
   "cell_type": "code",
   "execution_count": 2,
   "metadata": {},
   "outputs": [
    {
     "data": {
      "text/plain": [
       "4"
      ]
     },
     "execution_count": 2,
     "metadata": {},
     "output_type": "execute_result"
    }
   ],
   "source": [
    "def areaCal(rec1,rec2):\n",
    "    lx = max(rec1[0][0],rec2[0][0])\n",
    "    rx = min(rec1[1][0],rec2[1][0])\n",
    "    ly = max(rec1[0][1],rec2[0][1])\n",
    "    hy = min(rec1[1][1],rec2[1][1])\n",
    "    if(lx>=rx or ly>=hy):\n",
    "        return 0\n",
    "    return (rx-lx)*(hy-ly)\n",
    "\n",
    "areaCal( [ [1,0] , [5,3] ] ,[  [3,1] ,[7,4] ] )"
   ]
  },
  {
   "cell_type": "markdown",
   "metadata": {},
   "source": [
    "### 0/1 背包问题 https://www.youtube.com/watch?v=xOlhR_2QCXY"
   ]
  },
  {
   "cell_type": "markdown",
   "metadata": {},
   "source": [
    "### 递归解法，从后往前遍历，选择放入或者不放入此物品"
   ]
  },
  {
   "cell_type": "code",
   "execution_count": 30,
   "metadata": {},
   "outputs": [
    {
     "data": {
      "text/plain": [
       "16"
      ]
     },
     "execution_count": 30,
     "metadata": {},
     "output_type": "execute_result"
    }
   ],
   "source": [
    "capacities = []\n",
    "values = [] \n",
    "def Knapsack(capacityList,valueList,bagCapacity):\n",
    "    global capacities\n",
    "    global values\n",
    "    capacities = capacityList\n",
    "    values = valueList\n",
    "    return ks(bagCapacity,len(valueList)-1)\n",
    "\n",
    "def ks(c,index):\n",
    "    if(index<0):\n",
    "        return 0\n",
    "    if(c<=0):\n",
    "        return 0\n",
    "    if(c-capacities[index]<0):\n",
    "        return ks(c,index-1)\n",
    "    return max(values[index]+ks(c-capacities[index],index-1),ks(c,index-1))\n",
    "\n",
    "Knapsack([1,2,3,4,5],[3,2,5,6,1],10)"
   ]
  },
  {
   "cell_type": "markdown",
   "metadata": {},
   "source": [
    "### 动态规划 memory 解法，维护一个矩阵，在某个遍历下标一个对应的容量的最优解"
   ]
  },
  {
   "cell_type": "code",
   "execution_count": 31,
   "metadata": {},
   "outputs": [
    {
     "data": {
      "text/plain": [
       "16"
      ]
     },
     "execution_count": 31,
     "metadata": {},
     "output_type": "execute_result"
    }
   ],
   "source": [
    "capacities = []\n",
    "values = [] \n",
    "def Knapsack(capacityList,valueList,bagCapacity):\n",
    "    global capacities\n",
    "    global values\n",
    "    capacities = capacityList\n",
    "    values = valueList\n",
    "    memory = [[None]*(bagCapacity+1)]*len(valueList) \n",
    "    return ks(bagCapacity,len(valueList)-1,memory)\n",
    "\n",
    "def ks(c,index,memory):\n",
    "    if(index<0):\n",
    "        return 0\n",
    "    if(c<=0):\n",
    "        return 0\n",
    "    if(memory[index][c]!=None):\n",
    "        return memory[index][c]\n",
    "    if(c-capacities[index]<0):\n",
    "        return ks(c,index-1,memory)\n",
    "    value = max(values[index]+ks(c-capacities[index],index-1,memory),ks(c,index-1,memory))\n",
    "    memory[index][c] = value\n",
    "    return value\n",
    "Knapsack([1,2,3,4,5],[3,2,5,6,1],10)"
   ]
  },
  {
   "cell_type": "markdown",
   "metadata": {},
   "source": [
    "### 找到最长对称字符串"
   ]
  },
  {
   "cell_type": "code",
   "execution_count": 6,
   "metadata": {},
   "outputs": [
    {
     "data": {
      "text/plain": [
       "[2, 2, 2, 2, 2, 2]"
      ]
     },
     "execution_count": 6,
     "metadata": {},
     "output_type": "execute_result"
    }
   ],
   "source": [
    "def symmetrySeq(list):\n",
    "    globalMax = 1\n",
    "    startIndex = -1\n",
    "    endIndex = -1\n",
    "    for i in range(len(list)):\n",
    "        s = i-1\n",
    "        e = i+1\n",
    "        localMax = 1\n",
    "        \n",
    "        while(s>0 and e<len(list)):\n",
    "            if(list[s]==list[e]):\n",
    "                localMax+=2\n",
    "            else:\n",
    "                break\n",
    "            if(localMax>globalMax):\n",
    "                globalMax = localMax\n",
    "                startIndex = s\n",
    "                endIndex = e\n",
    "            s-=1\n",
    "            e+=1\n",
    "            \n",
    "        s = i -1\n",
    "        e = i\n",
    "        localMax = 0\n",
    "        \n",
    "        while(s>0 and e<len(list)):\n",
    "            if(list[s]==list[e]):\n",
    "                localMax += 2\n",
    "            else:\n",
    "                break\n",
    "            if(localMax>globalMax):\n",
    "                globalMax = localMax\n",
    "                startIndex = s\n",
    "                endIndex = e\n",
    "            s-=1\n",
    "            e+=1\n",
    "    return list[startIndex:endIndex+1]\n",
    "symmetrySeq([3,1,4,2,2,4,2,2,2,2,2,2])"
   ]
  },
  {
   "cell_type": "markdown",
   "metadata": {},
   "source": [
    "### 排序两个有序数组"
   ]
  },
  {
   "cell_type": "code",
   "execution_count": 2,
   "metadata": {},
   "outputs": [
    {
     "data": {
      "text/plain": [
       "[1, 2, 3, 3, 4, 5, 7, 9]"
      ]
     },
     "execution_count": 2,
     "metadata": {},
     "output_type": "execute_result"
    }
   ],
   "source": [
    "def sortTwoSortedArray(arrayA,arrayB):\n",
    "    indexA = 0\n",
    "    indexB = 0\n",
    "    list = []\n",
    "    while True:\n",
    "        if(indexA>=len(arrayA) and indexB>=len(arrayB)):\n",
    "            break\n",
    "        if(indexA>=len(arrayA)):\n",
    "            list.append(arrayB[indexB])\n",
    "            indexB+=1\n",
    "            continue\n",
    "        if(indexB>=len(arrayB)):\n",
    "            list.append(arrayA[indexA])\n",
    "            indexA+=1\n",
    "            continue\n",
    "        if(arrayA[indexA]<arrayB[indexB]):\n",
    "            list.append(arrayA[indexA])\n",
    "            indexA+=1\n",
    "        else:\n",
    "            list.append(arrayB[indexB])\n",
    "            indexB+=1\n",
    "    return list\n",
    "\n",
    "sortTwoSortedArray([1,2,3,7,9],[3,4,5])"
   ]
  },
  {
   "cell_type": "code",
   "execution_count": 31,
   "metadata": {},
   "outputs": [
    {
     "data": {
      "text/plain": [
       "2"
      ]
     },
     "execution_count": 31,
     "metadata": {},
     "output_type": "execute_result"
    }
   ],
   "source": [
    "class node:\n",
    "    def __init__(self,value=None):\n",
    "        self.value=value\n",
    "        self.next=None\n",
    "        \n",
    "    def link(self,node):\n",
    "        self.next = node\n",
    "        \n",
    "    def tailLink(self,tailNode):\n",
    "        node = self\n",
    "        if(node.next!=None):\n",
    "            node=node.next\n",
    "        node.next=tailNode\n",
    "    \n",
    "\n",
    "class linklist:\n",
    "    def __init__(self,nodes=None):\n",
    "        self.node = nodes\n",
    "        if(isinstance(nodes,node)):\n",
    "            length = 1\n",
    "            while(nodes.next!=None):\n",
    "                nodes = nodes.next\n",
    "                length+=1\n",
    "            self.length = length\n",
    "        else:\n",
    "            self.length=0\n",
    "            \n",
    "    def head(self):\n",
    "        return self.node\n",
    "    \n",
    "    def tail(self):\n",
    "        node = self.node\n",
    "        if(node==None):\n",
    "            return None\n",
    "        while(node.next!=None):\n",
    "            node = node.next\n",
    "        return node\n",
    "    \n",
    "    def tailLink(self,tailNode):\n",
    "        node = self.node\n",
    "        if(node==None):\n",
    "            self.node = tailNode\n",
    "            self.length = 1\n",
    "            return\n",
    "        while(node.next!=None):\n",
    "            node = node.next\n",
    "        node.next=tailNode\n",
    "        self.length+=1\n",
    "        \n",
    "    def insert(self,insertNode,index):\n",
    "        if(index<0 or index>self.length):\n",
    "            return -1\n",
    "        if(index==0):\n",
    "            node = self.node\n",
    "            self.node = insertNode\n",
    "            insertNode.next = node\n",
    "            self.length+=1\n",
    "            return 1\n",
    "        if(index==self.length):\n",
    "            node = self.tail()\n",
    "            node.next = insertNode\n",
    "            self.length+=1\n",
    "            return 1\n",
    "        previousNode = self.seek(index-1)\n",
    "        subsequentNode = self.seek(index) \n",
    "        previousNode.next = insertNode\n",
    "        insertNode.next = subsequentNode\n",
    "        self.length+=1\n",
    "        return 1\n",
    "        \n",
    "    def seek(self,index):\n",
    "        node = self.node\n",
    "        while(node!=None and index>0):\n",
    "            node = node.next\n",
    "            index-=1\n",
    "        if(index==0):\n",
    "            return node\n",
    "        else:\n",
    "            return None\n",
    "    def rmNode(self,index):\n",
    "        if(self.seek(index)==None):\n",
    "            return -1\n",
    "        if(index==0):\n",
    "            self.node = self.node.next\n",
    "            self.length-=1\n",
    "            return 1\n",
    "        elif(index==self.length-1):\n",
    "            node=self.seek(index-1)\n",
    "            node.next=None\n",
    "            self.length-=1\n",
    "            return 1\n",
    "        previousNode = self.seek(index-1)\n",
    "        rmNode = self.seek(index)\n",
    "        previousNode = rmNode.next\n",
    "        del(rmNode)\n",
    "        self.length-=1\n",
    "        return 1\n",
    "nodes = node(1)\n",
    "nodes.link(node(2))\n",
    "\n",
    "ll = linklist(nodes)\n",
    "ll.insert(node(3),2)\n",
    "ll.length\n",
    "ll.rmNode(0)\n",
    "ll.length"
   ]
  }
 ],
 "metadata": {
  "kernelspec": {
   "display_name": "Python 3",
   "language": "python",
   "name": "python3"
  },
  "language_info": {
   "codemirror_mode": {
    "name": "ipython",
    "version": 3
   },
   "file_extension": ".py",
   "mimetype": "text/x-python",
   "name": "python",
   "nbconvert_exporter": "python",
   "pygments_lexer": "ipython3",
   "version": "3.6.4"
  }
 },
 "nbformat": 4,
 "nbformat_minor": 2
}
